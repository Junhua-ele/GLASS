{
 "cells": [
  {
   "cell_type": "markdown",
   "metadata": {},
   "source": [
    "# **Script Execution**\n",
    "Please change the root to your folder path of shell folder"
   ]
  },
  {
   "cell_type": "code",
   "execution_count": 3,
   "metadata": {},
   "outputs": [
    {
     "name": "stdout",
     "output_type": "stream",
     "text": [
      "INFO:__main__:Command line arguments: /home/qjh/glass/GLASS-main/main.py --gpu 0 --seed 0 --test ckpt net -b wideresnet50 -le layer2 -le layer3 --pretrain_embed_dimension 1536 --target_embed_dimension 1536 --patchsize 3 --meta_epochs 5 --eval_epochs 1 --dsc_layers 2 --dsc_hidden 1024 --pre_proj 1 --mining 1 --noise 0.015 --radius 0.75 --p 0.5 --step 20 --limit 392 dataset --distribution 0 --mean 0.5 --std 0.1 --fg 1 --rand_aug 1 --batch_size 8 --resize 288 --imagesize 288 -d capsule mvtec /home/qjh/glass/GLASS-main/data/mvtec_anomaly_detection /home/qjh/glass/GLASS-main/data/dtd/images\n",
      "INFO:__main__:Dataset       CAPSULE       : train=219 test=132\n",
      "\n",
      "\n",
      "INFO:__main__:Selecting dataset [mvtec_capsule] (1/1) 2025-02-07 20:00:18\n",
      "Traceback (most recent call last):\n",
      "  File \"/home/qjh/glass/GLASS-main/main.py\", line 353, in <module>\n",
      "    main()\n",
      "  File \"/home/qjh/anaconda3/envs/glass/lib/python3.9/site-packages/click/core.py\", line 1157, in __call__\n",
      "    return self.main(*args, **kwargs)\n",
      "  File \"/home/qjh/anaconda3/envs/glass/lib/python3.9/site-packages/click/core.py\", line 1078, in main\n",
      "    rv = self.invoke(ctx)\n",
      "  File \"/home/qjh/anaconda3/envs/glass/lib/python3.9/site-packages/click/core.py\", line 1720, in invoke\n",
      "    return _process_result(rv)\n",
      "  File \"/home/qjh/anaconda3/envs/glass/lib/python3.9/site-packages/click/core.py\", line 1657, in _process_result\n",
      "    value = ctx.invoke(self._result_callback, value, **ctx.params)\n",
      "  File \"/home/qjh/anaconda3/envs/glass/lib/python3.9/site-packages/click/core.py\", line 783, in invoke\n",
      "    return __callback(*args, **kwargs)\n",
      "  File \"/home/qjh/glass/GLASS-main/main.py\", line 301, in run\n",
      "    flag = GLASS.trainer(dataloaders[\"training\"], dataloaders[\"testing\"], dataset_name)\n",
      "  File \"/home/qjh/glass/GLASS-main/glass.py\", line 196, in trainer\n",
      "    mlflow.set_experiment(\"GLASS_Training\")\n",
      "  File \"/home/qjh/anaconda3/envs/glass/lib/python3.9/site-packages/mlflow/tracking/fluent.py\", line 153, in set_experiment\n",
      "    client = MlflowClient()\n",
      "  File \"/home/qjh/anaconda3/envs/glass/lib/python3.9/site-packages/mlflow/tracking/client.py\", line 134, in __init__\n",
      "    self._tracking_client = TrackingServiceClient(final_tracking_uri)\n",
      "  File \"/home/qjh/anaconda3/envs/glass/lib/python3.9/site-packages/mlflow/tracking/_tracking_service/client.py\", line 83, in __init__\n",
      "    self.store\n",
      "  File \"/home/qjh/anaconda3/envs/glass/lib/python3.9/site-packages/mlflow/tracking/_tracking_service/client.py\", line 87, in store\n",
      "    return utils._get_store(self.tracking_uri)\n",
      "  File \"/home/qjh/anaconda3/envs/glass/lib/python3.9/site-packages/mlflow/tracking/_tracking_service/utils.py\", line 210, in _get_store\n",
      "    return _tracking_store_registry.get_store(store_uri, artifact_uri)\n",
      "  File \"/home/qjh/anaconda3/envs/glass/lib/python3.9/site-packages/mlflow/tracking/_tracking_service/registry.py\", line 45, in get_store\n",
      "    return self._get_store_with_resolved_uri(resolved_store_uri, artifact_uri)\n",
      "  File \"/home/qjh/anaconda3/envs/glass/lib/python3.9/site-packages/mlflow/tracking/_tracking_service/registry.py\", line 56, in _get_store_with_resolved_uri\n",
      "    return builder(store_uri=resolved_store_uri, artifact_uri=artifact_uri)\n",
      "  File \"/home/qjh/anaconda3/envs/glass/lib/python3.9/site-packages/mlflow/tracking/_tracking_service/utils.py\", line 134, in _get_file_store\n",
      "    return FileStore(store_uri, store_uri)\n",
      "  File \"/home/qjh/anaconda3/envs/glass/lib/python3.9/site-packages/mlflow/store/tracking/file_store.py\", line 192, in __init__\n",
      "    self._create_default_experiment()\n",
      "  File \"/home/qjh/anaconda3/envs/glass/lib/python3.9/site-packages/mlflow/store/tracking/file_store.py\", line 198, in _create_default_experiment\n",
      "    mkdir(self.root_directory)\n",
      "  File \"/home/qjh/anaconda3/envs/glass/lib/python3.9/site-packages/mlflow/utils/file_utils.py\", line 211, in mkdir\n",
      "    raise e\n",
      "  File \"/home/qjh/anaconda3/envs/glass/lib/python3.9/site-packages/mlflow/utils/file_utils.py\", line 208, in mkdir\n",
      "    os.makedirs(target, exist_ok=True)\n",
      "  File \"/home/qjh/anaconda3/envs/glass/lib/python3.9/os.py\", line 215, in makedirs\n",
      "    makedirs(head, exist_ok=exist_ok)\n",
      "  File \"/home/qjh/anaconda3/envs/glass/lib/python3.9/os.py\", line 225, in makedirs\n",
      "    mkdir(name, mode)\n",
      "PermissionError: [Errno 13] Permission denied: '/working'\n"
     ]
    }
   ],
   "source": [
    "import os\n",
    "\n",
    "root = '/home/qjh/glass/GLASS-main/shell'\n",
    "\n",
    "# os.environ[\"CUDA_VISIBLE_DEVICES\"] = 0\n",
    "\n",
    "!bash {root}/run-mvtec.sh"
   ]
  }
 ],
 "metadata": {
  "kernelspec": {
   "display_name": "glass",
   "language": "python",
   "name": "python3"
  },
  "language_info": {
   "codemirror_mode": {
    "name": "ipython",
    "version": 3
   },
   "file_extension": ".py",
   "mimetype": "text/x-python",
   "name": "python",
   "nbconvert_exporter": "python",
   "pygments_lexer": "ipython3",
   "version": "3.9.21"
  }
 },
 "nbformat": 4,
 "nbformat_minor": 2
}
